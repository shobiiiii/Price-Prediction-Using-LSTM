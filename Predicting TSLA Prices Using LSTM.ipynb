{
 "cells": [
  {
   "cell_type": "markdown",
   "metadata": {},
   "source": [
    "### Stock Market Prediction And Forecasting Using Stacked LSTM"
   ]
  },
  {
   "cell_type": "code",
   "execution_count": 1,
   "metadata": {},
   "outputs": [],
   "source": [
    "### Keras and Tensorflow >2.0"
   ]
  },
  {
   "cell_type": "code",
   "execution_count": 2,
   "metadata": {},
   "outputs": [],
   "source": [
    "import pandas as pd"
   ]
  },
  {
   "cell_type": "code",
   "execution_count": null,
   "metadata": {},
   "outputs": [],
   "source": [
    "df = pd.read_csv('TSLA.csv')"
   ]
  },
  {
   "cell_type": "code",
   "execution_count": null,
   "metadata": {},
   "outputs": [],
   "source": [
    "df.head()"
   ]
  },
  {
   "cell_type": "code",
   "execution_count": 7,
   "metadata": {},
   "outputs": [
    {
     "data": {
      "text/html": [
       "<div>\n",
       "<style scoped>\n",
       "    .dataframe tbody tr th:only-of-type {\n",
       "        vertical-align: middle;\n",
       "    }\n",
       "\n",
       "    .dataframe tbody tr th {\n",
       "        vertical-align: top;\n",
       "    }\n",
       "\n",
       "    .dataframe thead th {\n",
       "        text-align: right;\n",
       "    }\n",
       "</style>\n",
       "<table border=\"1\" class=\"dataframe\">\n",
       "  <thead>\n",
       "    <tr style=\"text-align: right;\">\n",
       "      <th></th>\n",
       "      <th>timestamp</th>\n",
       "      <th>close</th>\n",
       "    </tr>\n",
       "  </thead>\n",
       "  <tbody>\n",
       "    <tr>\n",
       "      <th>48113</th>\n",
       "      <td>2023-01-11 20:00:00</td>\n",
       "      <td>122.3538</td>\n",
       "    </tr>\n",
       "    <tr>\n",
       "      <th>48114</th>\n",
       "      <td>2023-01-11 20:15:00</td>\n",
       "      <td>122.8724</td>\n",
       "    </tr>\n",
       "    <tr>\n",
       "      <th>48115</th>\n",
       "      <td>2023-01-11 20:30:00</td>\n",
       "      <td>122.8600</td>\n",
       "    </tr>\n",
       "    <tr>\n",
       "      <th>48116</th>\n",
       "      <td>2023-01-11 20:45:00</td>\n",
       "      <td>123.2086</td>\n",
       "    </tr>\n",
       "    <tr>\n",
       "      <th>48117</th>\n",
       "      <td>2023-01-11 21:00:00</td>\n",
       "      <td>123.1500</td>\n",
       "    </tr>\n",
       "  </tbody>\n",
       "</table>\n",
       "</div>"
      ],
      "text/plain": [
       "                 timestamp     close\n",
       "48113  2023-01-11 20:00:00  122.3538\n",
       "48114  2023-01-11 20:15:00  122.8724\n",
       "48115  2023-01-11 20:30:00  122.8600\n",
       "48116  2023-01-11 20:45:00  123.2086\n",
       "48117  2023-01-11 21:00:00  123.1500"
      ]
     },
     "execution_count": 7,
     "metadata": {},
     "output_type": "execute_result"
    }
   ],
   "source": [
    "df.tail()"
   ]
  },
  {
   "cell_type": "code",
   "execution_count": 8,
   "metadata": {},
   "outputs": [],
   "source": [
    "df1=df.reset_index()['close']"
   ]
  },
  {
   "cell_type": "code",
   "execution_count": 9,
   "metadata": {},
   "outputs": [
    {
     "data": {
      "text/plain": [
       "0         15.5900\n",
       "1         15.6900\n",
       "2         15.6400\n",
       "3         15.5400\n",
       "4         15.6100\n",
       "           ...   \n",
       "48113    122.3538\n",
       "48114    122.8724\n",
       "48115    122.8600\n",
       "48116    123.2086\n",
       "48117    123.1500\n",
       "Name: close, Length: 48118, dtype: float64"
      ]
     },
     "execution_count": 9,
     "metadata": {},
     "output_type": "execute_result"
    }
   ],
   "source": [
    "df1"
   ]
  },
  {
   "cell_type": "code",
   "execution_count": 10,
   "metadata": {},
   "outputs": [
    {
     "data": {
      "text/plain": [
       "[<matplotlib.lines.Line2D at 0x16399abc0>]"
      ]
     },
     "execution_count": 10,
     "metadata": {},
     "output_type": "execute_result"
    },
    {
     "data": {
      "image/png": "[encoded data removed]",
      "text/plain": [
       "<Figure size 640x480 with 1 Axes>"
      ]
     },
     "metadata": {},
     "output_type": "display_data"
    }
   ],
   "source": [
    "import matplotlib.pyplot as plt\n",
    "plt.plot(df1)"
   ]
  },
  {
   "cell_type": "code",
   "execution_count": 11,
   "metadata": {},
   "outputs": [],
   "source": [
    "### LSTM are sensitive to the scale of the data. so we apply MinMax scaler "
   ]
  },
  {
   "cell_type": "code",
   "execution_count": 12,
   "metadata": {},
   "outputs": [],
   "source": [
    "import numpy as np"
   ]
  },
  {
   "cell_type": "code",
   "execution_count": 13,
   "metadata": {},
   "outputs": [
    {
     "data": {
      "text/plain": [
       "0         15.5900\n",
       "1         15.6900\n",
       "2         15.6400\n",
       "3         15.5400\n",
       "4         15.6100\n",
       "           ...   \n",
       "48113    122.3538\n",
       "48114    122.8724\n",
       "48115    122.8600\n",
       "48116    123.2086\n",
       "48117    123.1500\n",
       "Name: close, Length: 48118, dtype: float64"
      ]
     },
     "execution_count": 13,
     "metadata": {},
     "output_type": "execute_result"
    }
   ],
   "source": [
    "df1"
   ]
  },
  {
   "cell_type": "code",
   "execution_count": 14,
   "metadata": {},
   "outputs": [],
   "source": [
    "from sklearn.preprocessing import MinMaxScaler\n",
    "scaler=MinMaxScaler(feature_range=(0,1))\n",
    "df1=scaler.fit_transform(np.array(df1).reshape(-1,1))"
   ]
  },
  {
   "cell_type": "code",
   "execution_count": 15,
   "metadata": {},
   "outputs": [
    {
     "name": "stdout",
     "output_type": "stream",
     "text": [
      "[[0.01502968]\n",
      " [0.01527749]\n",
      " [0.01515358]\n",
      " ...\n",
      " [0.28085544]\n",
      " [0.28171931]\n",
      " [0.28157409]]\n"
     ]
    }
   ],
   "source": [
    "print(df1)"
   ]
  },
  {
   "cell_type": "code",
   "execution_count": 16,
   "metadata": {},
   "outputs": [],
   "source": [
    "##splitting dataset into train and test split\n",
    "training_size=int(len(df1)*0.65)\n",
    "test_size=len(df1)-training_size\n",
    "train_data,test_data=df1[0:training_size,:],df1[training_size:len(df1),:1]"
   ]
  },
  {
   "cell_type": "code",
   "execution_count": 17,
   "metadata": {},
   "outputs": [
    {
     "data": {
      "text/plain": [
       "(31276, 16842)"
      ]
     },
     "execution_count": 17,
     "metadata": {},
     "output_type": "execute_result"
    }
   ],
   "source": [
    "training_size,test_size"
   ]
  },
  {
   "cell_type": "code",
   "execution_count": 18,
   "metadata": {},
   "outputs": [
    {
     "data": {
      "text/plain": [
       "array([[0.01502968],\n",
       "       [0.01527749],\n",
       "       [0.01515358],\n",
       "       ...,\n",
       "       [0.23810822],\n",
       "       [0.23877731],\n",
       "       [0.23790997]])"
      ]
     },
     "execution_count": 18,
     "metadata": {},
     "output_type": "execute_result"
    }
   ],
   "source": [
    "train_data"
   ]
  },
  {
   "cell_type": "code",
   "execution_count": 20,
   "metadata": {},
   "outputs": [],
   "source": [
    "import numpy\n",
    "# convert an array of values into a dataset matrix\n",
    "def create_dataset(dataset, time_step=1):\n",
    "    dataX, dataY = [], []\n",
    "    for i in range(len(dataset)-time_step-1):\n",
    "        a = dataset[i:(i+time_step), 0]   ###i=0, 0,1,2,3-----99   100 \n",
    "        dataX.append(a)\n",
    "        dataY.append(dataset[i + time_step, 0])\n",
    "    return numpy.array(dataX), numpy.array(dataY)"
   ]
  },
  {
   "cell_type": "code",
   "execution_count": 21,
   "metadata": {},
   "outputs": [],
   "source": [
    "# reshape into X=t,t+1,t+2,t+3 and Y=t+4\n",
    "time_step = 100\n",
    "X_train, y_train = create_dataset(train_data, time_step)\n",
    "X_test, ytest = create_dataset(test_data, time_step)"
   ]
  },
  {
   "cell_type": "code",
   "execution_count": 22,
   "metadata": {},
   "outputs": [
    {
     "name": "stdout",
     "output_type": "stream",
     "text": [
      "(31175, 100)\n",
      "(31175,)\n"
     ]
    },
    {
     "data": {
      "text/plain": [
       "(None, None)"
      ]
     },
     "execution_count": 22,
     "metadata": {},
     "output_type": "execute_result"
    }
   ],
   "source": [
    "print(X_train.shape), print(y_train.shape)"
   ]
  },
  {
   "cell_type": "code",
   "execution_count": 23,
   "metadata": {},
   "outputs": [
    {
     "name": "stdout",
     "output_type": "stream",
     "text": [
      "(16741, 100)\n",
      "(16741,)\n"
     ]
    },
    {
     "data": {
      "text/plain": [
       "(None, None)"
      ]
     },
     "execution_count": 23,
     "metadata": {},
     "output_type": "execute_result"
    }
   ],
   "source": [
    "print(X_test.shape), print(ytest.shape)"
   ]
  },
  {
   "cell_type": "code",
   "execution_count": 24,
   "metadata": {},
   "outputs": [],
   "source": [
    "# reshape input to be [samples, time steps, features] which is required for LSTM\n",
    "X_train =X_train.reshape(X_train.shape[0],X_train.shape[1] , 1)\n",
    "X_test = X_test.reshape(X_test.shape[0],X_test.shape[1] , 1)"
   ]
  },
  {
   "cell_type": "code",
   "execution_count": null,
   "metadata": {},
   "outputs": [],
   "source": [
    "### Create the Stacked LSTM model\n",
    "from tensorflow.keras.models import Sequential\n",
    "from tensorflow.keras.layers import Dense\n",
    "from tensorflow.keras.layers import LSTM"
   ]
  },
  {
   "cell_type": "code",
   "execution_count": 429,
   "metadata": {},
   "outputs": [],
   "source": [
    "model=Sequential()\n",
    "model.add(LSTM(50,return_sequences=True,input_shape=(100,1)))\n",
    "model.add(LSTM(50,return_sequences=True))\n",
    "model.add(LSTM(50))\n",
    "model.add(Dense(1))\n",
    "model.compile(loss='mean_squared_error',optimizer='adam')\n"
   ]
  },
  {
   "cell_type": "code",
   "execution_count": 430,
   "metadata": {},
   "outputs": [
    {
     "name": "stdout",
     "output_type": "stream",
     "text": [
      "Model: \"sequential_3\"\n",
      "_________________________________________________________________\n",
      "Layer (type)                 Output Shape              Param #   \n",
      "=================================================================\n",
      "lstm_7 (LSTM)                (None, 100, 50)           10400     \n",
      "_________________________________________________________________\n",
      "lstm_8 (LSTM)                (None, 100, 50)           20200     \n",
      "_________________________________________________________________\n",
      "lstm_9 (LSTM)                (None, 50)                20200     \n",
      "_________________________________________________________________\n",
      "dense_3 (Dense)              (None, 1)                 51        \n",
      "=================================================================\n",
      "Total params: 50,851\n",
      "Trainable params: 50,851\n",
      "Non-trainable params: 0\n",
      "_________________________________________________________________\n"
     ]
    }
   ],
   "source": [
    "model.summary()"
   ]
  },
  {
   "cell_type": "code",
   "execution_count": 306,
   "metadata": {},
   "outputs": [
    {
     "name": "stdout",
     "output_type": "stream",
     "text": [
      "Model: \"sequential_2\"\n",
      "_________________________________________________________________\n",
      "Layer (type)                 Output Shape              Param #   \n",
      "=================================================================\n",
      "lstm_4 (LSTM)                (None, 100, 50)           10400     \n",
      "_________________________________________________________________\n",
      "lstm_5 (LSTM)                (None, 100, 50)           20200     \n",
      "_________________________________________________________________\n",
      "lstm_6 (LSTM)                (None, 50)                20200     \n",
      "_________________________________________________________________\n",
      "dense_2 (Dense)              (None, 1)                 51        \n",
      "=================================================================\n",
      "Total params: 50,851\n",
      "Trainable params: 50,851\n",
      "Non-trainable params: 0\n",
      "_________________________________________________________________\n"
     ]
    }
   ],
   "source": [
    "model.summary()"
   ]
  },
  {
   "cell_type": "code",
   "execution_count": null,
   "metadata": {},
   "outputs": [],
   "source": []
  },
  {
   "cell_type": "code",
   "execution_count": 431,
   "metadata": {},
   "outputs": [
    {
     "name": "stdout",
     "output_type": "stream",
     "text": [
      "Epoch 1/100\n",
      "12/12 [==============================] - 6s 487ms/step - loss: 0.0206 - val_loss: 0.0505\n",
      "Epoch 2/100\n",
      "12/12 [==============================] - 4s 309ms/step - loss: 0.0035 - val_loss: 0.0046\n",
      "Epoch 3/100\n",
      "12/12 [==============================] - 4s 300ms/step - loss: 0.0014 - val_loss: 0.0040\n",
      "Epoch 4/100\n",
      "12/12 [==============================] - 3s 287ms/step - loss: 8.1361e-04 - val_loss: 0.0073\n",
      "Epoch 5/100\n",
      "12/12 [==============================] - 3s 290ms/step - loss: 6.6860e-04 - val_loss: 0.0062\n",
      "Epoch 6/100\n",
      "12/12 [==============================] - 3s 255ms/step - loss: 6.4653e-04 - val_loss: 0.0062\n",
      "Epoch 7/100\n",
      "12/12 [==============================] - 3s 291ms/step - loss: 6.6186e-04 - val_loss: 0.0062\n",
      "Epoch 8/100\n",
      "12/12 [==============================] - 4s 300ms/step - loss: 6.2498e-04 - val_loss: 0.0049\n",
      "Epoch 9/100\n",
      "12/12 [==============================] - 4s 297ms/step - loss: 6.2745e-04 - val_loss: 0.0042\n",
      "Epoch 10/100\n",
      "12/12 [==============================] - 4s 303ms/step - loss: 6.0206e-04 - val_loss: 0.0050\n",
      "Epoch 11/100\n",
      "12/12 [==============================] - 4s 298ms/step - loss: 5.9884e-04 - val_loss: 0.0061\n",
      "Epoch 12/100\n",
      "12/12 [==============================] - 4s 304ms/step - loss: 6.1458e-04 - val_loss: 0.0044\n",
      "Epoch 13/100\n",
      "12/12 [==============================] - 4s 304ms/step - loss: 5.6830e-04 - val_loss: 0.0041\n",
      "Epoch 14/100\n",
      "12/12 [==============================] - 3s 262ms/step - loss: 5.5734e-04 - val_loss: 0.0038\n",
      "Epoch 15/100\n",
      "12/12 [==============================] - 3s 244ms/step - loss: 5.5456e-04 - val_loss: 0.0034\n",
      "Epoch 16/100\n",
      "12/12 [==============================] - 3s 277ms/step - loss: 5.3865e-04 - val_loss: 0.0034\n",
      "Epoch 17/100\n",
      "12/12 [==============================] - 3s 271ms/step - loss: 5.3872e-04 - val_loss: 0.0032\n",
      "Epoch 18/100\n",
      "12/12 [==============================] - 3s 260ms/step - loss: 5.2315e-04 - val_loss: 0.0030\n",
      "Epoch 19/100\n",
      "12/12 [==============================] - 3s 275ms/step - loss: 5.1791e-04 - val_loss: 0.0029\n",
      "Epoch 20/100\n",
      "12/12 [==============================] - 3s 274ms/step - loss: 5.0077e-04 - val_loss: 0.0028\n",
      "Epoch 21/100\n",
      "12/12 [==============================] - 3s 273ms/step - loss: 4.8672e-04 - val_loss: 0.0032\n",
      "Epoch 22/100\n",
      "12/12 [==============================] - 3s 270ms/step - loss: 4.9148e-04 - val_loss: 0.0026\n",
      "Epoch 23/100\n",
      "12/12 [==============================] - 3s 283ms/step - loss: 4.9279e-04 - val_loss: 0.0026\n",
      "Epoch 24/100\n",
      "12/12 [==============================] - 4s 308ms/step - loss: 5.2013e-04 - val_loss: 0.0024\n",
      "Epoch 25/100\n",
      "12/12 [==============================] - 3s 275ms/step - loss: 5.7301e-04 - val_loss: 0.0024\n",
      "Epoch 26/100\n",
      "12/12 [==============================] - 4s 295ms/step - loss: 5.5014e-04 - val_loss: 0.0030\n",
      "Epoch 27/100\n",
      "12/12 [==============================] - 4s 301ms/step - loss: 4.8608e-04 - val_loss: 0.0022\n",
      "Epoch 28/100\n",
      "12/12 [==============================] - 3s 278ms/step - loss: 4.4525e-04 - val_loss: 0.0022\n",
      "Epoch 29/100\n",
      "12/12 [==============================] - 4s 299ms/step - loss: 4.2446e-04 - val_loss: 0.0028\n",
      "Epoch 30/100\n",
      "12/12 [==============================] - 4s 302ms/step - loss: 4.9896e-04 - val_loss: 0.0023\n",
      "Epoch 31/100\n",
      "12/12 [==============================] - 3s 278ms/step - loss: 4.7568e-04 - val_loss: 0.0022\n",
      "Epoch 32/100\n",
      "12/12 [==============================] - 4s 294ms/step - loss: 4.3184e-04 - val_loss: 0.0027\n",
      "Epoch 33/100\n",
      "12/12 [==============================] - 4s 292ms/step - loss: 4.1365e-04 - val_loss: 0.0025\n",
      "Epoch 34/100\n",
      "12/12 [==============================] - 3s 276ms/step - loss: 4.0967e-04 - val_loss: 0.0022\n",
      "Epoch 35/100\n",
      "12/12 [==============================] - 3s 250ms/step - loss: 3.9084e-04 - val_loss: 0.0018\n",
      "Epoch 36/100\n",
      "12/12 [==============================] - 3s 291ms/step - loss: 3.8744e-04 - val_loss: 0.0016\n",
      "Epoch 37/100\n",
      "12/12 [==============================] - 3s 254ms/step - loss: 3.6441e-04 - val_loss: 0.0024\n",
      "Epoch 38/100\n",
      "12/12 [==============================] - 3s 272ms/step - loss: 4.3088e-04 - val_loss: 0.0025\n",
      "Epoch 39/100\n",
      "12/12 [==============================] - 3s 259ms/step - loss: 4.1398e-04 - val_loss: 0.0016\n",
      "Epoch 40/100\n",
      "12/12 [==============================] - 3s 274ms/step - loss: 3.8981e-04 - val_loss: 0.0016\n",
      "Epoch 41/100\n",
      "12/12 [==============================] - 3s 261ms/step - loss: 3.4896e-04 - val_loss: 0.0028\n",
      "Epoch 42/100\n",
      "12/12 [==============================] - 3s 282ms/step - loss: 3.7910e-04 - val_loss: 0.0014\n",
      "Epoch 43/100\n",
      "12/12 [==============================] - 3s 274ms/step - loss: 3.6404e-04 - val_loss: 0.0022\n",
      "Epoch 44/100\n",
      "12/12 [==============================] - 3s 277ms/step - loss: 3.8073e-04 - val_loss: 0.0014\n",
      "Epoch 45/100\n",
      "12/12 [==============================] - 3s 276ms/step - loss: 4.0008e-04 - val_loss: 0.0016\n",
      "Epoch 46/100\n",
      "12/12 [==============================] - 3s 273ms/step - loss: 4.0253e-04 - val_loss: 0.0015\n",
      "Epoch 47/100\n",
      "12/12 [==============================] - 3s 286ms/step - loss: 3.5930e-04 - val_loss: 0.0018\n",
      "Epoch 48/100\n",
      "12/12 [==============================] - 3s 264ms/step - loss: 3.0690e-04 - val_loss: 0.0016\n",
      "Epoch 49/100\n",
      "12/12 [==============================] - 3s 288ms/step - loss: 3.0504e-04 - val_loss: 0.0022\n",
      "Epoch 50/100\n",
      "12/12 [==============================] - 3s 277ms/step - loss: 3.1205e-04 - val_loss: 0.0016\n",
      "Epoch 51/100\n",
      "12/12 [==============================] - 3s 291ms/step - loss: 2.8386e-04 - val_loss: 0.0014\n",
      "Epoch 52/100\n",
      "12/12 [==============================] - 3s 282ms/step - loss: 2.9832e-04 - val_loss: 0.0016\n",
      "Epoch 53/100\n",
      "12/12 [==============================] - 3s 287ms/step - loss: 2.8287e-04 - val_loss: 0.0018\n",
      "Epoch 54/100\n",
      "12/12 [==============================] - 3s 286ms/step - loss: 2.8193e-04 - val_loss: 0.0013\n",
      "Epoch 55/100\n",
      "12/12 [==============================] - 4s 295ms/step - loss: 2.8989e-04 - val_loss: 0.0026\n",
      "Epoch 56/100\n",
      "12/12 [==============================] - 3s 262ms/step - loss: 2.7761e-04 - val_loss: 0.0014\n",
      "Epoch 57/100\n",
      "12/12 [==============================] - 3s 270ms/step - loss: 2.6088e-04 - val_loss: 0.0016\n",
      "Epoch 58/100\n",
      "12/12 [==============================] - 3s 289ms/step - loss: 2.7300e-04 - val_loss: 0.0013\n",
      "Epoch 59/100\n",
      "12/12 [==============================] - 3s 288ms/step - loss: 2.6058e-04 - val_loss: 0.0020\n",
      "Epoch 60/100\n",
      "12/12 [==============================] - 3s 285ms/step - loss: 2.5682e-04 - val_loss: 0.0014\n",
      "Epoch 61/100\n",
      "12/12 [==============================] - 3s 285ms/step - loss: 2.4091e-04 - val_loss: 0.0013\n",
      "Epoch 62/100\n",
      "12/12 [==============================] - 4s 296ms/step - loss: 2.2724e-04 - val_loss: 0.0016\n",
      "Epoch 63/100\n",
      "12/12 [==============================] - 3s 258ms/step - loss: 2.3206e-04 - val_loss: 0.0012\n",
      "Epoch 64/100\n",
      "12/12 [==============================] - 3s 277ms/step - loss: 2.4468e-04 - val_loss: 0.0014\n",
      "Epoch 65/100\n",
      "12/12 [==============================] - 3s 266ms/step - loss: 2.2395e-04 - val_loss: 0.0012\n",
      "Epoch 66/100\n",
      "12/12 [==============================] - 3s 263ms/step - loss: 2.1142e-04 - val_loss: 0.0012\n",
      "Epoch 67/100\n",
      "12/12 [==============================] - 3s 281ms/step - loss: 2.0540e-04 - val_loss: 0.0016\n",
      "Epoch 68/100\n",
      "12/12 [==============================] - 4s 297ms/step - loss: 2.0560e-04 - val_loss: 0.0012\n",
      "Epoch 69/100\n",
      "12/12 [==============================] - 3s 218ms/step - loss: 1.9982e-04 - val_loss: 0.0014\n",
      "Epoch 70/100\n",
      "12/12 [==============================] - 3s 257ms/step - loss: 2.3622e-04 - val_loss: 0.0015\n",
      "Epoch 71/100\n",
      "12/12 [==============================] - 3s 283ms/step - loss: 2.6216e-04 - val_loss: 0.0012\n",
      "Epoch 72/100\n",
      "12/12 [==============================] - 3s 282ms/step - loss: 2.4869e-04 - val_loss: 0.0017\n",
      "Epoch 73/100\n",
      "12/12 [==============================] - 3s 280ms/step - loss: 2.1853e-04 - val_loss: 0.0013\n",
      "Epoch 74/100\n",
      "12/12 [==============================] - 3s 244ms/step - loss: 2.2121e-04 - val_loss: 0.0014\n",
      "Epoch 75/100\n",
      "12/12 [==============================] - 3s 283ms/step - loss: 1.9690e-04 - val_loss: 0.0011\n",
      "Epoch 76/100\n",
      "12/12 [==============================] - 3s 261ms/step - loss: 2.2144e-04 - val_loss: 0.0011\n",
      "Epoch 77/100\n",
      "12/12 [==============================] - 3s 282ms/step - loss: 1.8420e-04 - val_loss: 0.0011\n",
      "Epoch 78/100\n",
      "12/12 [==============================] - 3s 282ms/step - loss: 1.7841e-04 - val_loss: 0.0014\n",
      "Epoch 79/100\n",
      "12/12 [==============================] - 3s 260ms/step - loss: 1.9611e-04 - val_loss: 0.0013\n",
      "Epoch 80/100\n",
      "12/12 [==============================] - 3s 281ms/step - loss: 2.0224e-04 - val_loss: 0.0012\n",
      "Epoch 81/100\n",
      "12/12 [==============================] - 3s 290ms/step - loss: 2.1049e-04 - val_loss: 0.0020\n",
      "Epoch 82/100\n",
      "12/12 [==============================] - 3s 288ms/step - loss: 1.9466e-04 - val_loss: 0.0010\n",
      "Epoch 83/100\n",
      "12/12 [==============================] - 3s 284ms/step - loss: 1.5801e-04 - val_loss: 0.0010\n",
      "Epoch 84/100\n",
      "12/12 [==============================] - 3s 272ms/step - loss: 1.6260e-04 - val_loss: 9.4397e-04\n",
      "Epoch 85/100\n",
      "12/12 [==============================] - 3s 249ms/step - loss: 1.5695e-04 - val_loss: 0.0013\n",
      "Epoch 86/100\n",
      "12/12 [==============================] - 3s 242ms/step - loss: 2.0192e-04 - val_loss: 9.7445e-04\n",
      "Epoch 87/100\n",
      "12/12 [==============================] - 3s 271ms/step - loss: 2.2179e-04 - val_loss: 0.0020\n",
      "Epoch 88/100\n",
      "12/12 [==============================] - 3s 249ms/step - loss: 2.5509e-04 - val_loss: 0.0015\n",
      "Epoch 89/100\n",
      "12/12 [==============================] - 3s 261ms/step - loss: 1.9912e-04 - val_loss: 0.0011\n",
      "Epoch 90/100\n",
      "12/12 [==============================] - 3s 265ms/step - loss: 1.6930e-04 - val_loss: 8.9285e-04\n",
      "Epoch 91/100\n",
      "12/12 [==============================] - 3s 276ms/step - loss: 1.6435e-04 - val_loss: 9.1264e-04\n",
      "Epoch 92/100\n",
      "12/12 [==============================] - 3s 259ms/step - loss: 1.6799e-04 - val_loss: 0.0014\n",
      "Epoch 93/100\n",
      "12/12 [==============================] - 3s 282ms/step - loss: 1.9593e-04 - val_loss: 0.0016\n",
      "Epoch 94/100\n",
      "12/12 [==============================] - 3s 287ms/step - loss: 1.8104e-04 - val_loss: 0.0010\n",
      "Epoch 95/100\n",
      "12/12 [==============================] - 3s 277ms/step - loss: 1.3988e-04 - val_loss: 8.5343e-04\n",
      "Epoch 96/100\n",
      "12/12 [==============================] - 3s 280ms/step - loss: 1.4097e-04 - val_loss: 9.3255e-04\n",
      "Epoch 97/100\n",
      "12/12 [==============================] - 3s 287ms/step - loss: 1.4070e-04 - val_loss: 8.3848e-04\n",
      "Epoch 98/100\n",
      "12/12 [==============================] - 3s 290ms/step - loss: 1.3528e-04 - val_loss: 8.4349e-04\n",
      "Epoch 99/100\n",
      "12/12 [==============================] - 3s 288ms/step - loss: 1.4087e-04 - val_loss: 9.8092e-04\n",
      "Epoch 100/100\n",
      "12/12 [==============================] - 3s 285ms/step - loss: 1.4775e-04 - val_loss: 9.3230e-04\n"
     ]
    },
    {
     "data": {
      "text/plain": [
       "<tensorflow.python.keras.callbacks.History at 0x2d1aa544a58>"
      ]
     },
     "execution_count": 431,
     "metadata": {},
     "output_type": "execute_result"
    }
   ],
   "source": [
    "model.fit(X_train,y_train,validation_data=(X_test,ytest),epochs=100,batch_size=64,verbose=1)"
   ]
  },
  {
   "cell_type": "code",
   "execution_count": 37,
   "metadata": {},
   "outputs": [],
   "source": [
    "import tensorflow as tf"
   ]
  },
  {
   "cell_type": "code",
   "execution_count": 39,
   "metadata": {},
   "outputs": [
    {
     "data": {
      "text/plain": [
       "'2.1.0'"
      ]
     },
     "execution_count": 39,
     "metadata": {},
     "output_type": "execute_result"
    }
   ],
   "source": [
    "tf.__version__"
   ]
  },
  {
   "cell_type": "code",
   "execution_count": 432,
   "metadata": {},
   "outputs": [],
   "source": [
    "### Lets Do the prediction and check performance metrics\n",
    "train_predict=model.predict(X_train)\n",
    "test_predict=model.predict(X_test)"
   ]
  },
  {
   "cell_type": "code",
   "execution_count": 433,
   "metadata": {},
   "outputs": [],
   "source": [
    "##Transformback to original form\n",
    "train_predict=scaler.inverse_transform(train_predict)\n",
    "test_predict=scaler.inverse_transform(test_predict)"
   ]
  },
  {
   "cell_type": "code",
   "execution_count": 434,
   "metadata": {},
   "outputs": [
    {
     "data": {
      "text/plain": [
       "140.9909210035748"
      ]
     },
     "execution_count": 434,
     "metadata": {},
     "output_type": "execute_result"
    }
   ],
   "source": [
    "### Calculate RMSE performance metrics\n",
    "import math\n",
    "from sklearn.metrics import mean_squared_error\n",
    "math.sqrt(mean_squared_error(y_train,train_predict))"
   ]
  },
  {
   "cell_type": "code",
   "execution_count": 435,
   "metadata": {},
   "outputs": [
    {
     "data": {
      "text/plain": [
       "235.7193088627771"
      ]
     },
     "execution_count": 435,
     "metadata": {},
     "output_type": "execute_result"
    }
   ],
   "source": [
    "### Test Data RMSE\n",
    "math.sqrt(mean_squared_error(ytest,test_predict))"
   ]
  },
  {
   "cell_type": "code",
   "execution_count": 436,
   "metadata": {},
   "outputs": [
    {
     "data": {
      "image/png": "[encoded data removed]",
      "text/plain": [
       "<Figure size 432x288 with 1 Axes>"
      ]
     },
     "metadata": {
      "needs_background": "light"
     },
     "output_type": "display_data"
    }
   ],
   "source": [
    "### Plotting \n",
    "# shift train predictions for plotting\n",
    "look_back=100\n",
    "trainPredictPlot = numpy.empty_like(df1)\n",
    "trainPredictPlot[:, :] = np.nan\n",
    "trainPredictPlot[look_back:len(train_predict)+look_back, :] = train_predict\n",
    "# shift test predictions for plotting\n",
    "testPredictPlot = numpy.empty_like(df1)\n",
    "testPredictPlot[:, :] = numpy.nan\n",
    "testPredictPlot[len(train_predict)+(look_back*2)+1:len(df1)-1, :] = test_predict\n",
    "# plot baseline and predictions\n",
    "plt.plot(scaler.inverse_transform(df1))\n",
    "plt.plot(trainPredictPlot)\n",
    "plt.plot(testPredictPlot)\n",
    "plt.show()"
   ]
  },
  {
   "cell_type": "code",
   "execution_count": 437,
   "metadata": {},
   "outputs": [
    {
     "data": {
      "text/plain": [
       "441"
      ]
     },
     "execution_count": 437,
     "metadata": {},
     "output_type": "execute_result"
    }
   ],
   "source": [
    "len(test_data)"
   ]
  },
  {
   "cell_type": "code",
   "execution_count": 438,
   "metadata": {},
   "outputs": [
    {
     "data": {
      "text/plain": [
       "(1, 100)"
      ]
     },
     "execution_count": 438,
     "metadata": {},
     "output_type": "execute_result"
    }
   ],
   "source": [
    "x_input=test_data[341:].reshape(1,-1)\n",
    "x_input.shape\n"
   ]
  },
  {
   "cell_type": "code",
   "execution_count": 439,
   "metadata": {},
   "outputs": [],
   "source": [
    "temp_input=list(x_input)\n",
    "temp_input=temp_input[0].tolist()"
   ]
  },
  {
   "cell_type": "code",
   "execution_count": 440,
   "metadata": {},
   "outputs": [
    {
     "data": {
      "text/plain": [
       "[0.8583551465000423,\n",
       " 0.8866418981676942,\n",
       " 0.8743139407244789,\n",
       " 0.8843198513890065,\n",
       " 0.8783669678290975,\n",
       " 0.8986321033521913,\n",
       " 0.925821160179009,\n",
       " 0.9287764924427933,\n",
       " 0.9567677108840666,\n",
       " 0.9386979650426415,\n",
       " 0.933040614709111,\n",
       " 0.9495060373216249,\n",
       " 0.9642404796082076,\n",
       " 0.9551211686228154,\n",
       " 0.9598919192772104,\n",
       " 0.9663514312251966,\n",
       " 0.9624672802499368,\n",
       " 0.9229502659799038,\n",
       " 0.9598497002448705,\n",
       " 0.9879253567508233,\n",
       " 0.985941062230854,\n",
       " 0.9253145317909315,\n",
       " 0.9217259140420504,\n",
       " 0.964747107996285,\n",
       " 0.9757240564046274,\n",
       " 0.9915984125643842,\n",
       " 0.9697289538123788,\n",
       " 0.9761462467280253,\n",
       " 0.9679557544541082,\n",
       " 1.0000000000000002,\n",
       " 0.9901629654648318,\n",
       " 0.9905007177235499,\n",
       " 0.9653803934813816,\n",
       " 0.9848855864223593,\n",
       " 0.9708688676855528,\n",
       " 0.9402600692392133,\n",
       " 0.8774803681499621,\n",
       " 0.8348391454867856,\n",
       " 0.8541332432660644,\n",
       " 0.7733682344000676,\n",
       " 0.7726927298826314,\n",
       " 0.8801401671873683,\n",
       " 0.8400743054969182,\n",
       " 0.8967322468969012,\n",
       " 0.8552731571392387,\n",
       " 0.8388499535590646,\n",
       " 0.7423372456303303,\n",
       " 0.8232711306256861,\n",
       " 0.7814320695769654,\n",
       " 0.6665963016127672,\n",
       " 0.7921557037912694,\n",
       " 0.6411804441442204,\n",
       " 0.6861437135860848,\n",
       " 0.6600101325677616,\n",
       " 0.6520307354555435,\n",
       " 0.5864223591995272,\n",
       " 0.5658616904500551,\n",
       " 0.660896732246897,\n",
       " 0.6551549438486872,\n",
       " 0.7097019336316812,\n",
       " 0.664527569028118,\n",
       " 0.6943764248923416,\n",
       " 0.692181035210673,\n",
       " 0.6356919699400492,\n",
       " 0.6526640209406402,\n",
       " 0.637802921557038,\n",
       " 0.7267162036646122,\n",
       " 0.7138816178333194,\n",
       " 0.7419150553069325,\n",
       " 0.7500211095161702,\n",
       " 0.7722283205268936,\n",
       " 0.8304905851557884,\n",
       " 0.8194291986827664,\n",
       " 0.8289706999915563,\n",
       " 0.8125474964113824,\n",
       " 0.7877649244279323,\n",
       " 0.7516254327450818,\n",
       " 0.7842607447437306,\n",
       " 0.7797433082833742,\n",
       " 0.8132652199611587,\n",
       " 0.8141096006079542,\n",
       " 0.7947310647639958,\n",
       " 0.8333614793548934,\n",
       " 0.8589884319851391,\n",
       " 0.8390188296884238,\n",
       " 0.8562864139153934,\n",
       " 0.8748627881448958,\n",
       " 0.887824031073208,\n",
       " 0.9009541501308793,\n",
       " 0.9279321117959978,\n",
       " 0.9485349995778098,\n",
       " 0.9333361479354896,\n",
       " 0.9174617917757326,\n",
       " 0.925441188887951,\n",
       " 0.9177151059697712,\n",
       " 0.9483239044161109,\n",
       " 0.9406400405302711,\n",
       " 0.9663514312251966,\n",
       " 0.9563033015283293,\n",
       " 0.964915984125644]"
      ]
     },
     "execution_count": 440,
     "metadata": {},
     "output_type": "execute_result"
    }
   ],
   "source": [
    "temp_input"
   ]
  },
  {
   "cell_type": "code",
   "execution_count": 441,
   "metadata": {},
   "outputs": [
    {
     "name": "stdout",
     "output_type": "stream",
     "text": [
      "[0.94413203]\n",
      "101\n",
      "1 day input [0.8866419  0.87431394 0.88431985 0.87836697 0.8986321  0.92582116\n",
      " 0.92877649 0.95676771 0.93869797 0.93304061 0.94950604 0.96424048\n",
      " 0.95512117 0.95989192 0.96635143 0.96246728 0.92295027 0.9598497\n",
      " 0.98792536 0.98594106 0.92531453 0.92172591 0.96474711 0.97572406\n",
      " 0.99159841 0.96972895 0.97614625 0.96795575 1.         0.99016297\n",
      " 0.99050072 0.96538039 0.98488559 0.97086887 0.94026007 0.87748037\n",
      " 0.83483915 0.85413324 0.77336823 0.77269273 0.88014017 0.84007431\n",
      " 0.89673225 0.85527316 0.83884995 0.74233725 0.82327113 0.78143207\n",
      " 0.6665963  0.7921557  0.64118044 0.68614371 0.66001013 0.65203074\n",
      " 0.58642236 0.56586169 0.66089673 0.65515494 0.70970193 0.66452757\n",
      " 0.69437642 0.69218104 0.63569197 0.65266402 0.63780292 0.7267162\n",
      " 0.71388162 0.74191506 0.75002111 0.77222832 0.83049059 0.8194292\n",
      " 0.8289707  0.8125475  0.78776492 0.75162543 0.78426074 0.77974331\n",
      " 0.81326522 0.8141096  0.79473106 0.83336148 0.85898843 0.83901883\n",
      " 0.85628641 0.87486279 0.88782403 0.90095415 0.92793211 0.948535\n",
      " 0.93333615 0.91746179 0.92544119 0.91771511 0.9483239  0.94064004\n",
      " 0.96635143 0.9563033  0.96491598 0.94413203]\n",
      "1 day output [[0.9379593]]\n",
      "2 day input [0.87431394 0.88431985 0.87836697 0.8986321  0.92582116 0.92877649\n",
      " 0.95676771 0.93869797 0.93304061 0.94950604 0.96424048 0.95512117\n",
      " 0.95989192 0.96635143 0.96246728 0.92295027 0.9598497  0.98792536\n",
      " 0.98594106 0.92531453 0.92172591 0.96474711 0.97572406 0.99159841\n",
      " 0.96972895 0.97614625 0.96795575 1.         0.99016297 0.99050072\n",
      " 0.96538039 0.98488559 0.97086887 0.94026007 0.87748037 0.83483915\n",
      " 0.85413324 0.77336823 0.77269273 0.88014017 0.84007431 0.89673225\n",
      " 0.85527316 0.83884995 0.74233725 0.82327113 0.78143207 0.6665963\n",
      " 0.7921557  0.64118044 0.68614371 0.66001013 0.65203074 0.58642236\n",
      " 0.56586169 0.66089673 0.65515494 0.70970193 0.66452757 0.69437642\n",
      " 0.69218104 0.63569197 0.65266402 0.63780292 0.7267162  0.71388162\n",
      " 0.74191506 0.75002111 0.77222832 0.83049059 0.8194292  0.8289707\n",
      " 0.8125475  0.78776492 0.75162543 0.78426074 0.77974331 0.81326522\n",
      " 0.8141096  0.79473106 0.83336148 0.85898843 0.83901883 0.85628641\n",
      " 0.87486279 0.88782403 0.90095415 0.92793211 0.948535   0.93333615\n",
      " 0.91746179 0.92544119 0.91771511 0.9483239  0.94064004 0.96635143\n",
      " 0.9563033  0.96491598 0.94413203 0.93795931]\n",
      "2 day output [[0.9286534]]\n",
      "3 day input [0.88431985 0.87836697 0.8986321  0.92582116 0.92877649 0.95676771\n",
      " 0.93869797 0.93304061 0.94950604 0.96424048 0.95512117 0.95989192\n",
      " 0.96635143 0.96246728 0.92295027 0.9598497  0.98792536 0.98594106\n",
      " 0.92531453 0.92172591 0.96474711 0.97572406 0.99159841 0.96972895\n",
      " 0.97614625 0.96795575 1.         0.99016297 0.99050072 0.96538039\n",
      " 0.98488559 0.97086887 0.94026007 0.87748037 0.83483915 0.85413324\n",
      " 0.77336823 0.77269273 0.88014017 0.84007431 0.89673225 0.85527316\n",
      " 0.83884995 0.74233725 0.82327113 0.78143207 0.6665963  0.7921557\n",
      " 0.64118044 0.68614371 0.66001013 0.65203074 0.58642236 0.56586169\n",
      " 0.66089673 0.65515494 0.70970193 0.66452757 0.69437642 0.69218104\n",
      " 0.63569197 0.65266402 0.63780292 0.7267162  0.71388162 0.74191506\n",
      " 0.75002111 0.77222832 0.83049059 0.8194292  0.8289707  0.8125475\n",
      " 0.78776492 0.75162543 0.78426074 0.77974331 0.81326522 0.8141096\n",
      " 0.79473106 0.83336148 0.85898843 0.83901883 0.85628641 0.87486279\n",
      " 0.88782403 0.90095415 0.92793211 0.948535   0.93333615 0.91746179\n",
      " 0.92544119 0.91771511 0.9483239  0.94064004 0.96635143 0.9563033\n",
      " 0.96491598 0.94413203 0.93795931 0.92865342]\n",
      "3 day output [[0.91987926]]\n",
      "4 day input [0.87836697 0.8986321  0.92582116 0.92877649 0.95676771 0.93869797\n",
      " 0.93304061 0.94950604 0.96424048 0.95512117 0.95989192 0.96635143\n",
      " 0.96246728 0.92295027 0.9598497  0.98792536 0.98594106 0.92531453\n",
      " 0.92172591 0.96474711 0.97572406 0.99159841 0.96972895 0.97614625\n",
      " 0.96795575 1.         0.99016297 0.99050072 0.96538039 0.98488559\n",
      " 0.97086887 0.94026007 0.87748037 0.83483915 0.85413324 0.77336823\n",
      " 0.77269273 0.88014017 0.84007431 0.89673225 0.85527316 0.83884995\n",
      " 0.74233725 0.82327113 0.78143207 0.6665963  0.7921557  0.64118044\n",
      " 0.68614371 0.66001013 0.65203074 0.58642236 0.56586169 0.66089673\n",
      " 0.65515494 0.70970193 0.66452757 0.69437642 0.69218104 0.63569197\n",
      " 0.65266402 0.63780292 0.7267162  0.71388162 0.74191506 0.75002111\n",
      " 0.77222832 0.83049059 0.8194292  0.8289707  0.8125475  0.78776492\n",
      " 0.75162543 0.78426074 0.77974331 0.81326522 0.8141096  0.79473106\n",
      " 0.83336148 0.85898843 0.83901883 0.85628641 0.87486279 0.88782403\n",
      " 0.90095415 0.92793211 0.948535   0.93333615 0.91746179 0.92544119\n",
      " 0.91771511 0.9483239  0.94064004 0.96635143 0.9563033  0.96491598\n",
      " 0.94413203 0.93795931 0.92865342 0.91987926]\n",
      "4 day output [[0.9128097]]\n",
      "5 day input [0.8986321  0.92582116 0.92877649 0.95676771 0.93869797 0.93304061\n",
      " 0.94950604 0.96424048 0.95512117 0.95989192 0.96635143 0.96246728\n",
      " 0.92295027 0.9598497  0.98792536 0.98594106 0.92531453 0.92172591\n",
      " 0.96474711 0.97572406 0.99159841 0.96972895 0.97614625 0.96795575\n",
      " 1.         0.99016297 0.99050072 0.96538039 0.98488559 0.97086887\n",
      " 0.94026007 0.87748037 0.83483915 0.85413324 0.77336823 0.77269273\n",
      " 0.88014017 0.84007431 0.89673225 0.85527316 0.83884995 0.74233725\n",
      " 0.82327113 0.78143207 0.6665963  0.7921557  0.64118044 0.68614371\n",
      " 0.66001013 0.65203074 0.58642236 0.56586169 0.66089673 0.65515494\n",
      " 0.70970193 0.66452757 0.69437642 0.69218104 0.63569197 0.65266402\n",
      " 0.63780292 0.7267162  0.71388162 0.74191506 0.75002111 0.77222832\n",
      " 0.83049059 0.8194292  0.8289707  0.8125475  0.78776492 0.75162543\n",
      " 0.78426074 0.77974331 0.81326522 0.8141096  0.79473106 0.83336148\n",
      " 0.85898843 0.83901883 0.85628641 0.87486279 0.88782403 0.90095415\n",
      " 0.92793211 0.948535   0.93333615 0.91746179 0.92544119 0.91771511\n",
      " 0.9483239  0.94064004 0.96635143 0.9563033  0.96491598 0.94413203\n",
      " 0.93795931 0.92865342 0.91987926 0.91280973]\n",
      "5 day output [[0.90777564]]\n",
      "6 day input [0.92582116 0.92877649 0.95676771 0.93869797 0.93304061 0.94950604\n",
      " 0.96424048 0.95512117 0.95989192 0.96635143 0.96246728 0.92295027\n",
      " 0.9598497  0.98792536 0.98594106 0.92531453 0.92172591 0.96474711\n",
      " 0.97572406 0.99159841 0.96972895 0.97614625 0.96795575 1.\n",
      " 0.99016297 0.99050072 0.96538039 0.98488559 0.97086887 0.94026007\n",
      " 0.87748037 0.83483915 0.85413324 0.77336823 0.77269273 0.88014017\n",
      " 0.84007431 0.89673225 0.85527316 0.83884995 0.74233725 0.82327113\n",
      " 0.78143207 0.6665963  0.7921557  0.64118044 0.68614371 0.66001013\n",
      " 0.65203074 0.58642236 0.56586169 0.66089673 0.65515494 0.70970193\n",
      " 0.66452757 0.69437642 0.69218104 0.63569197 0.65266402 0.63780292\n",
      " 0.7267162  0.71388162 0.74191506 0.75002111 0.77222832 0.83049059\n",
      " 0.8194292  0.8289707  0.8125475  0.78776492 0.75162543 0.78426074\n",
      " 0.77974331 0.81326522 0.8141096  0.79473106 0.83336148 0.85898843\n",
      " 0.83901883 0.85628641 0.87486279 0.88782403 0.90095415 0.92793211\n",
      " 0.948535   0.93333615 0.91746179 0.92544119 0.91771511 0.9483239\n",
      " 0.94064004 0.96635143 0.9563033  0.96491598 0.94413203 0.93795931\n",
      " 0.92865342 0.91987926 0.91280973 0.90777564]\n",
      "6 day output [[0.9047326]]\n",
      "7 day input [0.92877649 0.95676771 0.93869797 0.93304061 0.94950604 0.96424048\n",
      " 0.95512117 0.95989192 0.96635143 0.96246728 0.92295027 0.9598497\n",
      " 0.98792536 0.98594106 0.92531453 0.92172591 0.96474711 0.97572406\n",
      " 0.99159841 0.96972895 0.97614625 0.96795575 1.         0.99016297\n",
      " 0.99050072 0.96538039 0.98488559 0.97086887 0.94026007 0.87748037\n",
      " 0.83483915 0.85413324 0.77336823 0.77269273 0.88014017 0.84007431\n",
      " 0.89673225 0.85527316 0.83884995 0.74233725 0.82327113 0.78143207\n",
      " 0.6665963  0.7921557  0.64118044 0.68614371 0.66001013 0.65203074\n",
      " 0.58642236 0.56586169 0.66089673 0.65515494 0.70970193 0.66452757\n",
      " 0.69437642 0.69218104 0.63569197 0.65266402 0.63780292 0.7267162\n",
      " 0.71388162 0.74191506 0.75002111 0.77222832 0.83049059 0.8194292\n",
      " 0.8289707  0.8125475  0.78776492 0.75162543 0.78426074 0.77974331\n",
      " 0.81326522 0.8141096  0.79473106 0.83336148 0.85898843 0.83901883\n",
      " 0.85628641 0.87486279 0.88782403 0.90095415 0.92793211 0.948535\n",
      " 0.93333615 0.91746179 0.92544119 0.91771511 0.9483239  0.94064004\n",
      " 0.96635143 0.9563033  0.96491598 0.94413203 0.93795931 0.92865342\n",
      " 0.91987926 0.91280973 0.90777564 0.90473258]\n",
      "7 day output [[0.9033923]]\n",
      "8 day input [0.95676771 0.93869797 0.93304061 0.94950604 0.96424048 0.95512117\n",
      " 0.95989192 0.96635143 0.96246728 0.92295027 0.9598497  0.98792536\n",
      " 0.98594106 0.92531453 0.92172591 0.96474711 0.97572406 0.99159841\n",
      " 0.96972895 0.97614625 0.96795575 1.         0.99016297 0.99050072\n",
      " 0.96538039 0.98488559 0.97086887 0.94026007 0.87748037 0.83483915\n",
      " 0.85413324 0.77336823 0.77269273 0.88014017 0.84007431 0.89673225\n",
      " 0.85527316 0.83884995 0.74233725 0.82327113 0.78143207 0.6665963\n",
      " 0.7921557  0.64118044 0.68614371 0.66001013 0.65203074 0.58642236\n",
      " 0.56586169 0.66089673 0.65515494 0.70970193 0.66452757 0.69437642\n",
      " 0.69218104 0.63569197 0.65266402 0.63780292 0.7267162  0.71388162\n",
      " 0.74191506 0.75002111 0.77222832 0.83049059 0.8194292  0.8289707\n",
      " 0.8125475  0.78776492 0.75162543 0.78426074 0.77974331 0.81326522\n",
      " 0.8141096  0.79473106 0.83336148 0.85898843 0.83901883 0.85628641\n",
      " 0.87486279 0.88782403 0.90095415 0.92793211 0.948535   0.93333615\n",
      " 0.91746179 0.92544119 0.91771511 0.9483239  0.94064004 0.96635143\n",
      " 0.9563033  0.96491598 0.94413203 0.93795931 0.92865342 0.91987926\n",
      " 0.91280973 0.90777564 0.90473258 0.90339231]\n",
      "8 day output [[0.90332204]]\n",
      "9 day input [0.93869797 0.93304061 0.94950604 0.96424048 0.95512117 0.95989192\n",
      " 0.96635143 0.96246728 0.92295027 0.9598497  0.98792536 0.98594106\n",
      " 0.92531453 0.92172591 0.96474711 0.97572406 0.99159841 0.96972895\n",
      " 0.97614625 0.96795575 1.         0.99016297 0.99050072 0.96538039\n",
      " 0.98488559 0.97086887 0.94026007 0.87748037 0.83483915 0.85413324\n",
      " 0.77336823 0.77269273 0.88014017 0.84007431 0.89673225 0.85527316\n",
      " 0.83884995 0.74233725 0.82327113 0.78143207 0.6665963  0.7921557\n",
      " 0.64118044 0.68614371 0.66001013 0.65203074 0.58642236 0.56586169\n",
      " 0.66089673 0.65515494 0.70970193 0.66452757 0.69437642 0.69218104\n",
      " 0.63569197 0.65266402 0.63780292 0.7267162  0.71388162 0.74191506\n",
      " 0.75002111 0.77222832 0.83049059 0.8194292  0.8289707  0.8125475\n",
      " 0.78776492 0.75162543 0.78426074 0.77974331 0.81326522 0.8141096\n",
      " 0.79473106 0.83336148 0.85898843 0.83901883 0.85628641 0.87486279\n",
      " 0.88782403 0.90095415 0.92793211 0.948535   0.93333615 0.91746179\n",
      " 0.92544119 0.91771511 0.9483239  0.94064004 0.96635143 0.9563033\n",
      " 0.96491598 0.94413203 0.93795931 0.92865342 0.91987926 0.91280973\n",
      " 0.90777564 0.90473258 0.90339231 0.90332204]\n",
      "9 day output [[0.9040391]]\n",
      "10 day input [0.93304061 0.94950604 0.96424048 0.95512117 0.95989192 0.96635143\n",
      " 0.96246728 0.92295027 0.9598497  0.98792536 0.98594106 0.92531453\n",
      " 0.92172591 0.96474711 0.97572406 0.99159841 0.96972895 0.97614625\n",
      " 0.96795575 1.         0.99016297 0.99050072 0.96538039 0.98488559\n",
      " 0.97086887 0.94026007 0.87748037 0.83483915 0.85413324 0.77336823\n",
      " 0.77269273 0.88014017 0.84007431 0.89673225 0.85527316 0.83884995\n",
      " 0.74233725 0.82327113 0.78143207 0.6665963  0.7921557  0.64118044\n",
      " 0.68614371 0.66001013 0.65203074 0.58642236 0.56586169 0.66089673\n",
      " 0.65515494 0.70970193 0.66452757 0.69437642 0.69218104 0.63569197\n",
      " 0.65266402 0.63780292 0.7267162  0.71388162 0.74191506 0.75002111\n",
      " 0.77222832 0.83049059 0.8194292  0.8289707  0.8125475  0.78776492\n",
      " 0.75162543 0.78426074 0.77974331 0.81326522 0.8141096  0.79473106\n",
      " 0.83336148 0.85898843 0.83901883 0.85628641 0.87486279 0.88782403\n",
      " 0.90095415 0.92793211 0.948535   0.93333615 0.91746179 0.92544119\n",
      " 0.91771511 0.9483239  0.94064004 0.96635143 0.9563033  0.96491598\n",
      " 0.94413203 0.93795931 0.92865342 0.91987926 0.91280973 0.90777564\n",
      " 0.90473258 0.90339231 0.90332204 0.90403908]\n"
     ]
    },
    {
     "name": "stdout",
     "output_type": "stream",
     "text": [
      "10 day output [[0.9050924]]\n",
      "11 day input [0.94950604 0.96424048 0.95512117 0.95989192 0.96635143 0.96246728\n",
      " 0.92295027 0.9598497  0.98792536 0.98594106 0.92531453 0.92172591\n",
      " 0.96474711 0.97572406 0.99159841 0.96972895 0.97614625 0.96795575\n",
      " 1.         0.99016297 0.99050072 0.96538039 0.98488559 0.97086887\n",
      " 0.94026007 0.87748037 0.83483915 0.85413324 0.77336823 0.77269273\n",
      " 0.88014017 0.84007431 0.89673225 0.85527316 0.83884995 0.74233725\n",
      " 0.82327113 0.78143207 0.6665963  0.7921557  0.64118044 0.68614371\n",
      " 0.66001013 0.65203074 0.58642236 0.56586169 0.66089673 0.65515494\n",
      " 0.70970193 0.66452757 0.69437642 0.69218104 0.63569197 0.65266402\n",
      " 0.63780292 0.7267162  0.71388162 0.74191506 0.75002111 0.77222832\n",
      " 0.83049059 0.8194292  0.8289707  0.8125475  0.78776492 0.75162543\n",
      " 0.78426074 0.77974331 0.81326522 0.8141096  0.79473106 0.83336148\n",
      " 0.85898843 0.83901883 0.85628641 0.87486279 0.88782403 0.90095415\n",
      " 0.92793211 0.948535   0.93333615 0.91746179 0.92544119 0.91771511\n",
      " 0.9483239  0.94064004 0.96635143 0.9563033  0.96491598 0.94413203\n",
      " 0.93795931 0.92865342 0.91987926 0.91280973 0.90777564 0.90473258\n",
      " 0.90339231 0.90332204 0.90403908 0.90509242]\n",
      "11 day output [[0.906118]]\n",
      "12 day input [0.96424048 0.95512117 0.95989192 0.96635143 0.96246728 0.92295027\n",
      " 0.9598497  0.98792536 0.98594106 0.92531453 0.92172591 0.96474711\n",
      " 0.97572406 0.99159841 0.96972895 0.97614625 0.96795575 1.\n",
      " 0.99016297 0.99050072 0.96538039 0.98488559 0.97086887 0.94026007\n",
      " 0.87748037 0.83483915 0.85413324 0.77336823 0.77269273 0.88014017\n",
      " 0.84007431 0.89673225 0.85527316 0.83884995 0.74233725 0.82327113\n",
      " 0.78143207 0.6665963  0.7921557  0.64118044 0.68614371 0.66001013\n",
      " 0.65203074 0.58642236 0.56586169 0.66089673 0.65515494 0.70970193\n",
      " 0.66452757 0.69437642 0.69218104 0.63569197 0.65266402 0.63780292\n",
      " 0.7267162  0.71388162 0.74191506 0.75002111 0.77222832 0.83049059\n",
      " 0.8194292  0.8289707  0.8125475  0.78776492 0.75162543 0.78426074\n",
      " 0.77974331 0.81326522 0.8141096  0.79473106 0.83336148 0.85898843\n",
      " 0.83901883 0.85628641 0.87486279 0.88782403 0.90095415 0.92793211\n",
      " 0.948535   0.93333615 0.91746179 0.92544119 0.91771511 0.9483239\n",
      " 0.94064004 0.96635143 0.9563033  0.96491598 0.94413203 0.93795931\n",
      " 0.92865342 0.91987926 0.91280973 0.90777564 0.90473258 0.90339231\n",
      " 0.90332204 0.90403908 0.90509242 0.90611798]\n",
      "12 day output [[0.90686554]]\n",
      "13 day input [0.95512117 0.95989192 0.96635143 0.96246728 0.92295027 0.9598497\n",
      " 0.98792536 0.98594106 0.92531453 0.92172591 0.96474711 0.97572406\n",
      " 0.99159841 0.96972895 0.97614625 0.96795575 1.         0.99016297\n",
      " 0.99050072 0.96538039 0.98488559 0.97086887 0.94026007 0.87748037\n",
      " 0.83483915 0.85413324 0.77336823 0.77269273 0.88014017 0.84007431\n",
      " 0.89673225 0.85527316 0.83884995 0.74233725 0.82327113 0.78143207\n",
      " 0.6665963  0.7921557  0.64118044 0.68614371 0.66001013 0.65203074\n",
      " 0.58642236 0.56586169 0.66089673 0.65515494 0.70970193 0.66452757\n",
      " 0.69437642 0.69218104 0.63569197 0.65266402 0.63780292 0.7267162\n",
      " 0.71388162 0.74191506 0.75002111 0.77222832 0.83049059 0.8194292\n",
      " 0.8289707  0.8125475  0.78776492 0.75162543 0.78426074 0.77974331\n",
      " 0.81326522 0.8141096  0.79473106 0.83336148 0.85898843 0.83901883\n",
      " 0.85628641 0.87486279 0.88782403 0.90095415 0.92793211 0.948535\n",
      " 0.93333615 0.91746179 0.92544119 0.91771511 0.9483239  0.94064004\n",
      " 0.96635143 0.9563033  0.96491598 0.94413203 0.93795931 0.92865342\n",
      " 0.91987926 0.91280973 0.90777564 0.90473258 0.90339231 0.90332204\n",
      " 0.90403908 0.90509242 0.90611798 0.90686554]\n",
      "13 day output [[0.90720606]]\n",
      "14 day input [0.95989192 0.96635143 0.96246728 0.92295027 0.9598497  0.98792536\n",
      " 0.98594106 0.92531453 0.92172591 0.96474711 0.97572406 0.99159841\n",
      " 0.96972895 0.97614625 0.96795575 1.         0.99016297 0.99050072\n",
      " 0.96538039 0.98488559 0.97086887 0.94026007 0.87748037 0.83483915\n",
      " 0.85413324 0.77336823 0.77269273 0.88014017 0.84007431 0.89673225\n",
      " 0.85527316 0.83884995 0.74233725 0.82327113 0.78143207 0.6665963\n",
      " 0.7921557  0.64118044 0.68614371 0.66001013 0.65203074 0.58642236\n",
      " 0.56586169 0.66089673 0.65515494 0.70970193 0.66452757 0.69437642\n",
      " 0.69218104 0.63569197 0.65266402 0.63780292 0.7267162  0.71388162\n",
      " 0.74191506 0.75002111 0.77222832 0.83049059 0.8194292  0.8289707\n",
      " 0.8125475  0.78776492 0.75162543 0.78426074 0.77974331 0.81326522\n",
      " 0.8141096  0.79473106 0.83336148 0.85898843 0.83901883 0.85628641\n",
      " 0.87486279 0.88782403 0.90095415 0.92793211 0.948535   0.93333615\n",
      " 0.91746179 0.92544119 0.91771511 0.9483239  0.94064004 0.96635143\n",
      " 0.9563033  0.96491598 0.94413203 0.93795931 0.92865342 0.91987926\n",
      " 0.91280973 0.90777564 0.90473258 0.90339231 0.90332204 0.90403908\n",
      " 0.90509242 0.90611798 0.90686554 0.90720606]\n",
      "14 day output [[0.9071163]]\n",
      "15 day input [0.96635143 0.96246728 0.92295027 0.9598497  0.98792536 0.98594106\n",
      " 0.92531453 0.92172591 0.96474711 0.97572406 0.99159841 0.96972895\n",
      " 0.97614625 0.96795575 1.         0.99016297 0.99050072 0.96538039\n",
      " 0.98488559 0.97086887 0.94026007 0.87748037 0.83483915 0.85413324\n",
      " 0.77336823 0.77269273 0.88014017 0.84007431 0.89673225 0.85527316\n",
      " 0.83884995 0.74233725 0.82327113 0.78143207 0.6665963  0.7921557\n",
      " 0.64118044 0.68614371 0.66001013 0.65203074 0.58642236 0.56586169\n",
      " 0.66089673 0.65515494 0.70970193 0.66452757 0.69437642 0.69218104\n",
      " 0.63569197 0.65266402 0.63780292 0.7267162  0.71388162 0.74191506\n",
      " 0.75002111 0.77222832 0.83049059 0.8194292  0.8289707  0.8125475\n",
      " 0.78776492 0.75162543 0.78426074 0.77974331 0.81326522 0.8141096\n",
      " 0.79473106 0.83336148 0.85898843 0.83901883 0.85628641 0.87486279\n",
      " 0.88782403 0.90095415 0.92793211 0.948535   0.93333615 0.91746179\n",
      " 0.92544119 0.91771511 0.9483239  0.94064004 0.96635143 0.9563033\n",
      " 0.96491598 0.94413203 0.93795931 0.92865342 0.91987926 0.91280973\n",
      " 0.90777564 0.90473258 0.90339231 0.90332204 0.90403908 0.90509242\n",
      " 0.90611798 0.90686554 0.90720606 0.90711629]\n",
      "15 day output [[0.9066538]]\n",
      "16 day input [0.96246728 0.92295027 0.9598497  0.98792536 0.98594106 0.92531453\n",
      " 0.92172591 0.96474711 0.97572406 0.99159841 0.96972895 0.97614625\n",
      " 0.96795575 1.         0.99016297 0.99050072 0.96538039 0.98488559\n",
      " 0.97086887 0.94026007 0.87748037 0.83483915 0.85413324 0.77336823\n",
      " 0.77269273 0.88014017 0.84007431 0.89673225 0.85527316 0.83884995\n",
      " 0.74233725 0.82327113 0.78143207 0.6665963  0.7921557  0.64118044\n",
      " 0.68614371 0.66001013 0.65203074 0.58642236 0.56586169 0.66089673\n",
      " 0.65515494 0.70970193 0.66452757 0.69437642 0.69218104 0.63569197\n",
      " 0.65266402 0.63780292 0.7267162  0.71388162 0.74191506 0.75002111\n",
      " 0.77222832 0.83049059 0.8194292  0.8289707  0.8125475  0.78776492\n",
      " 0.75162543 0.78426074 0.77974331 0.81326522 0.8141096  0.79473106\n",
      " 0.83336148 0.85898843 0.83901883 0.85628641 0.87486279 0.88782403\n",
      " 0.90095415 0.92793211 0.948535   0.93333615 0.91746179 0.92544119\n",
      " 0.91771511 0.9483239  0.94064004 0.96635143 0.9563033  0.96491598\n",
      " 0.94413203 0.93795931 0.92865342 0.91987926 0.91280973 0.90777564\n",
      " 0.90473258 0.90339231 0.90332204 0.90403908 0.90509242 0.90611798\n",
      " 0.90686554 0.90720606 0.90711629 0.90665382]\n",
      "16 day output [[0.90592706]]\n",
      "17 day input [0.92295027 0.9598497  0.98792536 0.98594106 0.92531453 0.92172591\n",
      " 0.96474711 0.97572406 0.99159841 0.96972895 0.97614625 0.96795575\n",
      " 1.         0.99016297 0.99050072 0.96538039 0.98488559 0.97086887\n",
      " 0.94026007 0.87748037 0.83483915 0.85413324 0.77336823 0.77269273\n",
      " 0.88014017 0.84007431 0.89673225 0.85527316 0.83884995 0.74233725\n",
      " 0.82327113 0.78143207 0.6665963  0.7921557  0.64118044 0.68614371\n",
      " 0.66001013 0.65203074 0.58642236 0.56586169 0.66089673 0.65515494\n",
      " 0.70970193 0.66452757 0.69437642 0.69218104 0.63569197 0.65266402\n",
      " 0.63780292 0.7267162  0.71388162 0.74191506 0.75002111 0.77222832\n",
      " 0.83049059 0.8194292  0.8289707  0.8125475  0.78776492 0.75162543\n",
      " 0.78426074 0.77974331 0.81326522 0.8141096  0.79473106 0.83336148\n",
      " 0.85898843 0.83901883 0.85628641 0.87486279 0.88782403 0.90095415\n",
      " 0.92793211 0.948535   0.93333615 0.91746179 0.92544119 0.91771511\n",
      " 0.9483239  0.94064004 0.96635143 0.9563033  0.96491598 0.94413203\n",
      " 0.93795931 0.92865342 0.91987926 0.91280973 0.90777564 0.90473258\n",
      " 0.90339231 0.90332204 0.90403908 0.90509242 0.90611798 0.90686554\n",
      " 0.90720606 0.90711629 0.90665382 0.90592706]\n",
      "17 day output [[0.9050646]]\n",
      "18 day input [0.9598497  0.98792536 0.98594106 0.92531453 0.92172591 0.96474711\n",
      " 0.97572406 0.99159841 0.96972895 0.97614625 0.96795575 1.\n",
      " 0.99016297 0.99050072 0.96538039 0.98488559 0.97086887 0.94026007\n",
      " 0.87748037 0.83483915 0.85413324 0.77336823 0.77269273 0.88014017\n",
      " 0.84007431 0.89673225 0.85527316 0.83884995 0.74233725 0.82327113\n",
      " 0.78143207 0.6665963  0.7921557  0.64118044 0.68614371 0.66001013\n",
      " 0.65203074 0.58642236 0.56586169 0.66089673 0.65515494 0.70970193\n",
      " 0.66452757 0.69437642 0.69218104 0.63569197 0.65266402 0.63780292\n",
      " 0.7267162  0.71388162 0.74191506 0.75002111 0.77222832 0.83049059\n",
      " 0.8194292  0.8289707  0.8125475  0.78776492 0.75162543 0.78426074\n",
      " 0.77974331 0.81326522 0.8141096  0.79473106 0.83336148 0.85898843\n",
      " 0.83901883 0.85628641 0.87486279 0.88782403 0.90095415 0.92793211\n",
      " 0.948535   0.93333615 0.91746179 0.92544119 0.91771511 0.9483239\n",
      " 0.94064004 0.96635143 0.9563033  0.96491598 0.94413203 0.93795931\n",
      " 0.92865342 0.91987926 0.91280973 0.90777564 0.90473258 0.90339231\n",
      " 0.90332204 0.90403908 0.90509242 0.90611798 0.90686554 0.90720606\n",
      " 0.90711629 0.90665382 0.90592706 0.90506458]\n",
      "18 day output [[0.90419257]]\n",
      "19 day input [0.98792536 0.98594106 0.92531453 0.92172591 0.96474711 0.97572406\n",
      " 0.99159841 0.96972895 0.97614625 0.96795575 1.         0.99016297\n",
      " 0.99050072 0.96538039 0.98488559 0.97086887 0.94026007 0.87748037\n",
      " 0.83483915 0.85413324 0.77336823 0.77269273 0.88014017 0.84007431\n",
      " 0.89673225 0.85527316 0.83884995 0.74233725 0.82327113 0.78143207\n",
      " 0.6665963  0.7921557  0.64118044 0.68614371 0.66001013 0.65203074\n",
      " 0.58642236 0.56586169 0.66089673 0.65515494 0.70970193 0.66452757\n",
      " 0.69437642 0.69218104 0.63569197 0.65266402 0.63780292 0.7267162\n",
      " 0.71388162 0.74191506 0.75002111 0.77222832 0.83049059 0.8194292\n",
      " 0.8289707  0.8125475  0.78776492 0.75162543 0.78426074 0.77974331\n",
      " 0.81326522 0.8141096  0.79473106 0.83336148 0.85898843 0.83901883\n",
      " 0.85628641 0.87486279 0.88782403 0.90095415 0.92793211 0.948535\n",
      " 0.93333615 0.91746179 0.92544119 0.91771511 0.9483239  0.94064004\n",
      " 0.96635143 0.9563033  0.96491598 0.94413203 0.93795931 0.92865342\n",
      " 0.91987926 0.91280973 0.90777564 0.90473258 0.90339231 0.90332204\n",
      " 0.90403908 0.90509242 0.90611798 0.90686554 0.90720606 0.90711629\n",
      " 0.90665382 0.90592706 0.90506458 0.90419257]\n",
      "19 day output [[0.9034131]]\n",
      "20 day input [0.98594106 0.92531453 0.92172591 0.96474711 0.97572406 0.99159841\n",
      " 0.96972895 0.97614625 0.96795575 1.         0.99016297 0.99050072\n",
      " 0.96538039 0.98488559 0.97086887 0.94026007 0.87748037 0.83483915\n",
      " 0.85413324 0.77336823 0.77269273 0.88014017 0.84007431 0.89673225\n",
      " 0.85527316 0.83884995 0.74233725 0.82327113 0.78143207 0.6665963\n",
      " 0.7921557  0.64118044 0.68614371 0.66001013 0.65203074 0.58642236\n",
      " 0.56586169 0.66089673 0.65515494 0.70970193 0.66452757 0.69437642\n",
      " 0.69218104 0.63569197 0.65266402 0.63780292 0.7267162  0.71388162\n",
      " 0.74191506 0.75002111 0.77222832 0.83049059 0.8194292  0.8289707\n",
      " 0.8125475  0.78776492 0.75162543 0.78426074 0.77974331 0.81326522\n",
      " 0.8141096  0.79473106 0.83336148 0.85898843 0.83901883 0.85628641\n",
      " 0.87486279 0.88782403 0.90095415 0.92793211 0.948535   0.93333615\n",
      " 0.91746179 0.92544119 0.91771511 0.9483239  0.94064004 0.96635143\n",
      " 0.9563033  0.96491598 0.94413203 0.93795931 0.92865342 0.91987926\n",
      " 0.91280973 0.90777564 0.90473258 0.90339231 0.90332204 0.90403908\n",
      " 0.90509242 0.90611798 0.90686554 0.90720606 0.90711629 0.90665382\n",
      " 0.90592706 0.90506458 0.90419257 0.90341312]\n"
     ]
    },
    {
     "name": "stdout",
     "output_type": "stream",
     "text": [
      "20 day output [[0.90279734]]\n",
      "21 day input [0.92531453 0.92172591 0.96474711 0.97572406 0.99159841 0.96972895\n",
      " 0.97614625 0.96795575 1.         0.99016297 0.99050072 0.96538039\n",
      " 0.98488559 0.97086887 0.94026007 0.87748037 0.83483915 0.85413324\n",
      " 0.77336823 0.77269273 0.88014017 0.84007431 0.89673225 0.85527316\n",
      " 0.83884995 0.74233725 0.82327113 0.78143207 0.6665963  0.7921557\n",
      " 0.64118044 0.68614371 0.66001013 0.65203074 0.58642236 0.56586169\n",
      " 0.66089673 0.65515494 0.70970193 0.66452757 0.69437642 0.69218104\n",
      " 0.63569197 0.65266402 0.63780292 0.7267162  0.71388162 0.74191506\n",
      " 0.75002111 0.77222832 0.83049059 0.8194292  0.8289707  0.8125475\n",
      " 0.78776492 0.75162543 0.78426074 0.77974331 0.81326522 0.8141096\n",
      " 0.79473106 0.83336148 0.85898843 0.83901883 0.85628641 0.87486279\n",
      " 0.88782403 0.90095415 0.92793211 0.948535   0.93333615 0.91746179\n",
      " 0.92544119 0.91771511 0.9483239  0.94064004 0.96635143 0.9563033\n",
      " 0.96491598 0.94413203 0.93795931 0.92865342 0.91987926 0.91280973\n",
      " 0.90777564 0.90473258 0.90339231 0.90332204 0.90403908 0.90509242\n",
      " 0.90611798 0.90686554 0.90720606 0.90711629 0.90665382 0.90592706\n",
      " 0.90506458 0.90419257 0.90341312 0.90279734]\n",
      "21 day output [[0.9023812]]\n",
      "22 day input [0.92172591 0.96474711 0.97572406 0.99159841 0.96972895 0.97614625\n",
      " 0.96795575 1.         0.99016297 0.99050072 0.96538039 0.98488559\n",
      " 0.97086887 0.94026007 0.87748037 0.83483915 0.85413324 0.77336823\n",
      " 0.77269273 0.88014017 0.84007431 0.89673225 0.85527316 0.83884995\n",
      " 0.74233725 0.82327113 0.78143207 0.6665963  0.7921557  0.64118044\n",
      " 0.68614371 0.66001013 0.65203074 0.58642236 0.56586169 0.66089673\n",
      " 0.65515494 0.70970193 0.66452757 0.69437642 0.69218104 0.63569197\n",
      " 0.65266402 0.63780292 0.7267162  0.71388162 0.74191506 0.75002111\n",
      " 0.77222832 0.83049059 0.8194292  0.8289707  0.8125475  0.78776492\n",
      " 0.75162543 0.78426074 0.77974331 0.81326522 0.8141096  0.79473106\n",
      " 0.83336148 0.85898843 0.83901883 0.85628641 0.87486279 0.88782403\n",
      " 0.90095415 0.92793211 0.948535   0.93333615 0.91746179 0.92544119\n",
      " 0.91771511 0.9483239  0.94064004 0.96635143 0.9563033  0.96491598\n",
      " 0.94413203 0.93795931 0.92865342 0.91987926 0.91280973 0.90777564\n",
      " 0.90473258 0.90339231 0.90332204 0.90403908 0.90509242 0.90611798\n",
      " 0.90686554 0.90720606 0.90711629 0.90665382 0.90592706 0.90506458\n",
      " 0.90419257 0.90341312 0.90279734 0.90238118]\n",
      "22 day output [[0.9021694]]\n",
      "23 day input [0.96474711 0.97572406 0.99159841 0.96972895 0.97614625 0.96795575\n",
      " 1.         0.99016297 0.99050072 0.96538039 0.98488559 0.97086887\n",
      " 0.94026007 0.87748037 0.83483915 0.85413324 0.77336823 0.77269273\n",
      " 0.88014017 0.84007431 0.89673225 0.85527316 0.83884995 0.74233725\n",
      " 0.82327113 0.78143207 0.6665963  0.7921557  0.64118044 0.68614371\n",
      " 0.66001013 0.65203074 0.58642236 0.56586169 0.66089673 0.65515494\n",
      " 0.70970193 0.66452757 0.69437642 0.69218104 0.63569197 0.65266402\n",
      " 0.63780292 0.7267162  0.71388162 0.74191506 0.75002111 0.77222832\n",
      " 0.83049059 0.8194292  0.8289707  0.8125475  0.78776492 0.75162543\n",
      " 0.78426074 0.77974331 0.81326522 0.8141096  0.79473106 0.83336148\n",
      " 0.85898843 0.83901883 0.85628641 0.87486279 0.88782403 0.90095415\n",
      " 0.92793211 0.948535   0.93333615 0.91746179 0.92544119 0.91771511\n",
      " 0.9483239  0.94064004 0.96635143 0.9563033  0.96491598 0.94413203\n",
      " 0.93795931 0.92865342 0.91987926 0.91280973 0.90777564 0.90473258\n",
      " 0.90339231 0.90332204 0.90403908 0.90509242 0.90611798 0.90686554\n",
      " 0.90720606 0.90711629 0.90665382 0.90592706 0.90506458 0.90419257\n",
      " 0.90341312 0.90279734 0.90238118 0.90216941]\n",
      "23 day output [[0.90213937]]\n",
      "24 day input [0.97572406 0.99159841 0.96972895 0.97614625 0.96795575 1.\n",
      " 0.99016297 0.99050072 0.96538039 0.98488559 0.97086887 0.94026007\n",
      " 0.87748037 0.83483915 0.85413324 0.77336823 0.77269273 0.88014017\n",
      " 0.84007431 0.89673225 0.85527316 0.83884995 0.74233725 0.82327113\n",
      " 0.78143207 0.6665963  0.7921557  0.64118044 0.68614371 0.66001013\n",
      " 0.65203074 0.58642236 0.56586169 0.66089673 0.65515494 0.70970193\n",
      " 0.66452757 0.69437642 0.69218104 0.63569197 0.65266402 0.63780292\n",
      " 0.7267162  0.71388162 0.74191506 0.75002111 0.77222832 0.83049059\n",
      " 0.8194292  0.8289707  0.8125475  0.78776492 0.75162543 0.78426074\n",
      " 0.77974331 0.81326522 0.8141096  0.79473106 0.83336148 0.85898843\n",
      " 0.83901883 0.85628641 0.87486279 0.88782403 0.90095415 0.92793211\n",
      " 0.948535   0.93333615 0.91746179 0.92544119 0.91771511 0.9483239\n",
      " 0.94064004 0.96635143 0.9563033  0.96491598 0.94413203 0.93795931\n",
      " 0.92865342 0.91987926 0.91280973 0.90777564 0.90473258 0.90339231\n",
      " 0.90332204 0.90403908 0.90509242 0.90611798 0.90686554 0.90720606\n",
      " 0.90711629 0.90665382 0.90592706 0.90506458 0.90419257 0.90341312\n",
      " 0.90279734 0.90238118 0.90216941 0.90213937]\n",
      "24 day output [[0.9022528]]\n",
      "25 day input [0.99159841 0.96972895 0.97614625 0.96795575 1.         0.99016297\n",
      " 0.99050072 0.96538039 0.98488559 0.97086887 0.94026007 0.87748037\n",
      " 0.83483915 0.85413324 0.77336823 0.77269273 0.88014017 0.84007431\n",
      " 0.89673225 0.85527316 0.83884995 0.74233725 0.82327113 0.78143207\n",
      " 0.6665963  0.7921557  0.64118044 0.68614371 0.66001013 0.65203074\n",
      " 0.58642236 0.56586169 0.66089673 0.65515494 0.70970193 0.66452757\n",
      " 0.69437642 0.69218104 0.63569197 0.65266402 0.63780292 0.7267162\n",
      " 0.71388162 0.74191506 0.75002111 0.77222832 0.83049059 0.8194292\n",
      " 0.8289707  0.8125475  0.78776492 0.75162543 0.78426074 0.77974331\n",
      " 0.81326522 0.8141096  0.79473106 0.83336148 0.85898843 0.83901883\n",
      " 0.85628641 0.87486279 0.88782403 0.90095415 0.92793211 0.948535\n",
      " 0.93333615 0.91746179 0.92544119 0.91771511 0.9483239  0.94064004\n",
      " 0.96635143 0.9563033  0.96491598 0.94413203 0.93795931 0.92865342\n",
      " 0.91987926 0.91280973 0.90777564 0.90473258 0.90339231 0.90332204\n",
      " 0.90403908 0.90509242 0.90611798 0.90686554 0.90720606 0.90711629\n",
      " 0.90665382 0.90592706 0.90506458 0.90419257 0.90341312 0.90279734\n",
      " 0.90238118 0.90216941 0.90213937 0.90225279]\n",
      "25 day output [[0.90246403]]\n",
      "26 day input [0.96972895 0.97614625 0.96795575 1.         0.99016297 0.99050072\n",
      " 0.96538039 0.98488559 0.97086887 0.94026007 0.87748037 0.83483915\n",
      " 0.85413324 0.77336823 0.77269273 0.88014017 0.84007431 0.89673225\n",
      " 0.85527316 0.83884995 0.74233725 0.82327113 0.78143207 0.6665963\n",
      " 0.7921557  0.64118044 0.68614371 0.66001013 0.65203074 0.58642236\n",
      " 0.56586169 0.66089673 0.65515494 0.70970193 0.66452757 0.69437642\n",
      " 0.69218104 0.63569197 0.65266402 0.63780292 0.7267162  0.71388162\n",
      " 0.74191506 0.75002111 0.77222832 0.83049059 0.8194292  0.8289707\n",
      " 0.8125475  0.78776492 0.75162543 0.78426074 0.77974331 0.81326522\n",
      " 0.8141096  0.79473106 0.83336148 0.85898843 0.83901883 0.85628641\n",
      " 0.87486279 0.88782403 0.90095415 0.92793211 0.948535   0.93333615\n",
      " 0.91746179 0.92544119 0.91771511 0.9483239  0.94064004 0.96635143\n",
      " 0.9563033  0.96491598 0.94413203 0.93795931 0.92865342 0.91987926\n",
      " 0.91280973 0.90777564 0.90473258 0.90339231 0.90332204 0.90403908\n",
      " 0.90509242 0.90611798 0.90686554 0.90720606 0.90711629 0.90665382\n",
      " 0.90592706 0.90506458 0.90419257 0.90341312 0.90279734 0.90238118\n",
      " 0.90216941 0.90213937 0.90225279 0.90246403]\n",
      "26 day output [[0.90272856]]\n",
      "27 day input [0.97614625 0.96795575 1.         0.99016297 0.99050072 0.96538039\n",
      " 0.98488559 0.97086887 0.94026007 0.87748037 0.83483915 0.85413324\n",
      " 0.77336823 0.77269273 0.88014017 0.84007431 0.89673225 0.85527316\n",
      " 0.83884995 0.74233725 0.82327113 0.78143207 0.6665963  0.7921557\n",
      " 0.64118044 0.68614371 0.66001013 0.65203074 0.58642236 0.56586169\n",
      " 0.66089673 0.65515494 0.70970193 0.66452757 0.69437642 0.69218104\n",
      " 0.63569197 0.65266402 0.63780292 0.7267162  0.71388162 0.74191506\n",
      " 0.75002111 0.77222832 0.83049059 0.8194292  0.8289707  0.8125475\n",
      " 0.78776492 0.75162543 0.78426074 0.77974331 0.81326522 0.8141096\n",
      " 0.79473106 0.83336148 0.85898843 0.83901883 0.85628641 0.87486279\n",
      " 0.88782403 0.90095415 0.92793211 0.948535   0.93333615 0.91746179\n",
      " 0.92544119 0.91771511 0.9483239  0.94064004 0.96635143 0.9563033\n",
      " 0.96491598 0.94413203 0.93795931 0.92865342 0.91987926 0.91280973\n",
      " 0.90777564 0.90473258 0.90339231 0.90332204 0.90403908 0.90509242\n",
      " 0.90611798 0.90686554 0.90720606 0.90711629 0.90665382 0.90592706\n",
      " 0.90506458 0.90419257 0.90341312 0.90279734 0.90238118 0.90216941\n",
      " 0.90213937 0.90225279 0.90246403 0.90272856]\n",
      "27 day output [[0.90300757]]\n",
      "28 day input [0.96795575 1.         0.99016297 0.99050072 0.96538039 0.98488559\n",
      " 0.97086887 0.94026007 0.87748037 0.83483915 0.85413324 0.77336823\n",
      " 0.77269273 0.88014017 0.84007431 0.89673225 0.85527316 0.83884995\n",
      " 0.74233725 0.82327113 0.78143207 0.6665963  0.7921557  0.64118044\n",
      " 0.68614371 0.66001013 0.65203074 0.58642236 0.56586169 0.66089673\n",
      " 0.65515494 0.70970193 0.66452757 0.69437642 0.69218104 0.63569197\n",
      " 0.65266402 0.63780292 0.7267162  0.71388162 0.74191506 0.75002111\n",
      " 0.77222832 0.83049059 0.8194292  0.8289707  0.8125475  0.78776492\n",
      " 0.75162543 0.78426074 0.77974331 0.81326522 0.8141096  0.79473106\n",
      " 0.83336148 0.85898843 0.83901883 0.85628641 0.87486279 0.88782403\n",
      " 0.90095415 0.92793211 0.948535   0.93333615 0.91746179 0.92544119\n",
      " 0.91771511 0.9483239  0.94064004 0.96635143 0.9563033  0.96491598\n",
      " 0.94413203 0.93795931 0.92865342 0.91987926 0.91280973 0.90777564\n",
      " 0.90473258 0.90339231 0.90332204 0.90403908 0.90509242 0.90611798\n",
      " 0.90686554 0.90720606 0.90711629 0.90665382 0.90592706 0.90506458\n",
      " 0.90419257 0.90341312 0.90279734 0.90238118 0.90216941 0.90213937\n",
      " 0.90225279 0.90246403 0.90272856 0.90300757]\n"
     ]
    },
    {
     "name": "stdout",
     "output_type": "stream",
     "text": [
      "28 day output [[0.903272]]\n",
      "29 day input [1.         0.99016297 0.99050072 0.96538039 0.98488559 0.97086887\n",
      " 0.94026007 0.87748037 0.83483915 0.85413324 0.77336823 0.77269273\n",
      " 0.88014017 0.84007431 0.89673225 0.85527316 0.83884995 0.74233725\n",
      " 0.82327113 0.78143207 0.6665963  0.7921557  0.64118044 0.68614371\n",
      " 0.66001013 0.65203074 0.58642236 0.56586169 0.66089673 0.65515494\n",
      " 0.70970193 0.66452757 0.69437642 0.69218104 0.63569197 0.65266402\n",
      " 0.63780292 0.7267162  0.71388162 0.74191506 0.75002111 0.77222832\n",
      " 0.83049059 0.8194292  0.8289707  0.8125475  0.78776492 0.75162543\n",
      " 0.78426074 0.77974331 0.81326522 0.8141096  0.79473106 0.83336148\n",
      " 0.85898843 0.83901883 0.85628641 0.87486279 0.88782403 0.90095415\n",
      " 0.92793211 0.948535   0.93333615 0.91746179 0.92544119 0.91771511\n",
      " 0.9483239  0.94064004 0.96635143 0.9563033  0.96491598 0.94413203\n",
      " 0.93795931 0.92865342 0.91987926 0.91280973 0.90777564 0.90473258\n",
      " 0.90339231 0.90332204 0.90403908 0.90509242 0.90611798 0.90686554\n",
      " 0.90720606 0.90711629 0.90665382 0.90592706 0.90506458 0.90419257\n",
      " 0.90341312 0.90279734 0.90238118 0.90216941 0.90213937 0.90225279\n",
      " 0.90246403 0.90272856 0.90300757 0.90327197]\n",
      "29 day output [[0.90350425]]\n",
      "[[0.9441320300102234], [0.9379593133926392], [0.9286534190177917], [0.9198792576789856], [0.9128097295761108], [0.9077756404876709], [0.9047325849533081], [0.9033923149108887], [0.9033220410346985], [0.9040390849113464], [0.9050924181938171], [0.9061179757118225], [0.9068655371665955], [0.9072060585021973], [0.9071162939071655], [0.9066538214683533], [0.9059270620346069], [0.905064582824707], [0.9041925668716431], [0.9034131169319153], [0.9027973413467407], [0.902381181716919], [0.902169406414032], [0.9021393656730652], [0.9022527933120728], [0.9024640321731567], [0.9027285575866699], [0.9030075669288635], [0.9032719731330872], [0.9035042524337769]]\n"
     ]
    }
   ],
   "source": [
    "# demonstrate prediction for next 10 days\n",
    "from numpy import array\n",
    "\n",
    "lst_output=[]\n",
    "n_steps=100\n",
    "i=0\n",
    "while(i<30):\n",
    "    \n",
    "    if(len(temp_input)>100):\n",
    "        #print(temp_input)\n",
    "        x_input=np.array(temp_input[1:])\n",
    "        print(\"{} day input {}\".format(i,x_input))\n",
    "        x_input=x_input.reshape(1,-1)\n",
    "        x_input = x_input.reshape((1, n_steps, 1))\n",
    "        #print(x_input)\n",
    "        yhat = model.predict(x_input, verbose=0)\n",
    "        print(\"{} day output {}\".format(i,yhat))\n",
    "        temp_input.extend(yhat[0].tolist())\n",
    "        temp_input=temp_input[1:]\n",
    "        #print(temp_input)\n",
    "        lst_output.extend(yhat.tolist())\n",
    "        i=i+1\n",
    "    else:\n",
    "        x_input = x_input.reshape((1, n_steps,1))\n",
    "        yhat = model.predict(x_input, verbose=0)\n",
    "        print(yhat[0])\n",
    "        temp_input.extend(yhat[0].tolist())\n",
    "        print(len(temp_input))\n",
    "        lst_output.extend(yhat.tolist())\n",
    "        i=i+1\n",
    "    \n",
    "\n",
    "print(lst_output)"
   ]
  },
  {
   "cell_type": "code",
   "execution_count": 442,
   "metadata": {},
   "outputs": [],
   "source": [
    "day_new=np.arange(1,101)\n",
    "day_pred=np.arange(101,131)"
   ]
  },
  {
   "cell_type": "code",
   "execution_count": 443,
   "metadata": {},
   "outputs": [],
   "source": [
    "import matplotlib.pyplot as plt"
   ]
  },
  {
   "cell_type": "code",
   "execution_count": 391,
   "metadata": {},
   "outputs": [
    {
     "data": {
      "text/plain": [
       "1258"
      ]
     },
     "execution_count": 391,
     "metadata": {},
     "output_type": "execute_result"
    }
   ],
   "source": [
    "len(df1)"
   ]
  },
  {
   "cell_type": "code",
   "execution_count": 444,
   "metadata": {},
   "outputs": [
    {
     "data": {
      "text/plain": [
       "[<matplotlib.lines.Line2D at 0x2d1b0f352b0>]"
      ]
     },
     "execution_count": 444,
     "metadata": {},
     "output_type": "execute_result"
    },
    {
     "data": {
      "image/png": "[encoded data removed]",
      "text/plain": [
       "<Figure size 432x288 with 1 Axes>"
      ]
     },
     "metadata": {
      "needs_background": "light"
     },
     "output_type": "display_data"
    }
   ],
   "source": [
    "plt.plot(day_new,scaler.inverse_transform(df1[1158:]))\n",
    "plt.plot(day_pred,scaler.inverse_transform(lst_output))"
   ]
  },
  {
   "cell_type": "code",
   "execution_count": 446,
   "metadata": {},
   "outputs": [
    {
     "data": {
      "text/plain": [
       "[<matplotlib.lines.Line2D at 0x2d1b0f55ac8>]"
      ]
     },
     "execution_count": 446,
     "metadata": {},
     "output_type": "execute_result"
    },
    {
     "data": {
      "image/png": "[encoded data removed]",
      "text/plain": [
       "<Figure size 432x288 with 1 Axes>"
      ]
     },
     "metadata": {
      "needs_background": "light"
     },
     "output_type": "display_data"
    }
   ],
   "source": [
    "df3=df1.tolist()\n",
    "df3.extend(lst_output)\n",
    "plt.plot(df3[1200:])"
   ]
  },
  {
   "cell_type": "code",
   "execution_count": 395,
   "metadata": {},
   "outputs": [],
   "source": [
    "df3=scaler.inverse_transform(df3).tolist()"
   ]
  },
  {
   "cell_type": "code",
   "execution_count": 396,
   "metadata": {},
   "outputs": [
    {
     "data": {
      "text/plain": [
       "[<matplotlib.lines.Line2D at 0x2d1a904c470>]"
      ]
     },
     "execution_count": 396,
     "metadata": {},
     "output_type": "execute_result"
    },
    {
     "data": {
      "image/png": "[encoded data removed]",
      "text/plain": [
       "<Figure size 432x288 with 1 Axes>"
      ]
     },
     "metadata": {
      "needs_background": "light"
     },
     "output_type": "display_data"
    }
   ],
   "source": [
    "plt.plot(df3)"
   ]
  },
  {
   "cell_type": "code",
   "execution_count": null,
   "metadata": {},
   "outputs": [],
   "source": []
  }
 ],
 "metadata": {
  "kernelspec": {
   "display_name": "Python 3 (ipykernel)",
   "language": "python",
   "name": "python3"
  },
  "language_info": {
   "codemirror_mode": {
    "name": "ipython",
    "version": 3
   },
   "file_extension": ".py",
   "mimetype": "text/x-python",
   "name": "python",
   "nbconvert_exporter": "python",
   "pygments_lexer": "ipython3",
   "version": "3.9.6"
  }
 },
 "nbformat": 4,
 "nbformat_minor": 2
}
